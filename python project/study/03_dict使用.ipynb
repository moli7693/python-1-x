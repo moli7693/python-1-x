{
 "cells": [
  {
   "cell_type": "markdown",
   "id": "b39150b3-6be6-4f81-9838-225fff05c067",
   "metadata": {},
   "source": [
    "## 使用dict\n",
    "+ 字典是一种通过名称来访问其各个值的数据结构, 这种数据结构就是映射\n",
    "+ 存储的形式即为key:value 的键值对形式 key和value之间使用冒号隔开 key是唯一性标志, 值是存在key之下\n",
    "+ 字典中的key可以是数字, 字符串, 元组(元组是不可变类型)\n",
    "+ 在字典中可以存储任意类型的对象\n",
    "+ 形式 d = {k1:v1, k2:v2, ..., kn:vn}"
   ]
  },
  {
   "cell_type": "code",
   "execution_count": 2,
   "id": "bca36e57-00fe-44ee-a128-3e21211813f9",
   "metadata": {},
   "outputs": [
    {
     "name": "stdout",
     "output_type": "stream",
     "text": [
      "<class 'dict'>\n",
      "{'name': 'siri', 'gender': 'f', 'age': 12, 3: 'dd'}\n"
     ]
    }
   ],
   "source": [
    "d0 = {}\n",
    "print(type(d0))\n",
    "\n",
    "\n",
    "d = {'name':'siri', 'gender':'f', 'age':12 , 3:'dd'}\n",
    "print(d)"
   ]
  },
  {
   "cell_type": "markdown",
   "id": "7e16d04a-ffb0-4c7f-897b-197ec62d9ef8",
   "metadata": {},
   "source": [
    "## 访问字典中的值"
   ]
  },
  {
   "cell_type": "code",
   "execution_count": 3,
   "id": "08e94617-ab4e-45af-af82-a7968db89131",
   "metadata": {},
   "outputs": [
    {
     "name": "stdout",
     "output_type": "stream",
     "text": [
      "['siri', 'aa', 'bb']\n"
     ]
    }
   ],
   "source": [
    "d = {'name':['siri','aa','bb'], 'gender':'f', 'age':12}\n",
    "name = d['name']\n",
    "print(name)"
   ]
  },
  {
   "cell_type": "markdown",
   "id": "b2094f27-6c76-4186-810d-15d0ff1ab91b",
   "metadata": {},
   "source": [
    "## 修改字典中的值"
   ]
  },
  {
   "cell_type": "code",
   "execution_count": 3,
   "id": "968ea6c8-21d9-4c19-81fe-8b8f555634ee",
   "metadata": {},
   "outputs": [
    {
     "name": "stdout",
     "output_type": "stream",
     "text": [
      "{'name': 'siri', 'gender': 'f', 'age': 15}\n"
     ]
    }
   ],
   "source": [
    "d = {'name':'siri', 'gender':'f', 'age':12}\n",
    "# 修改年龄为15\n",
    "d['age'] = 15\n",
    "print(d)"
   ]
  },
  {
   "cell_type": "markdown",
   "id": "e558ddc5-a989-40c7-9479-15f984e8d61c",
   "metadata": {},
   "source": [
    "## 删除字典\n",
    "+ 删除字典中的某个元素\n",
    "+ 删除字典中的所有元素\n",
    "+ 删除字典"
   ]
  },
  {
   "cell_type": "code",
   "execution_count": 4,
   "id": "55af0d8d-742a-4e07-a766-5946f0bdbf48",
   "metadata": {},
   "outputs": [
    {
     "name": "stdout",
     "output_type": "stream",
     "text": [
      "{'name': 'siri', 'age': 12}\n",
      "{}\n"
     ]
    }
   ],
   "source": [
    "d = {'name':'siri', 'gender':'f', 'age':12}\n",
    "del d['gender']\n",
    "print(d)\n",
    "\n",
    "d.clear()\n",
    "print(d)\n",
    "\n",
    "del d"
   ]
  },
  {
   "cell_type": "markdown",
   "id": "9146ea0f-2762-4f8e-86ae-97acfa9dd714",
   "metadata": {},
   "source": [
    "## 字典中的内置函数"
   ]
  },
  {
   "cell_type": "code",
   "execution_count": 5,
   "id": "bc65f896-1beb-43b5-96cb-2781a962a7c6",
   "metadata": {},
   "outputs": [
    {
     "name": "stdout",
     "output_type": "stream",
     "text": [
      "3\n"
     ]
    }
   ],
   "source": [
    "# 使用len函数获取字典中的键值对的总数\n",
    "d = {'name':'siri', 'gender':'f', 'age':12}\n",
    "print(len(d))"
   ]
  },
  {
   "cell_type": "code",
   "execution_count": 7,
   "id": "c862174b-df1a-4f3c-841e-c59ddec274ce",
   "metadata": {},
   "outputs": [
    {
     "name": "stdout",
     "output_type": "stream",
     "text": [
      "存在\n",
      "存在\n"
     ]
    }
   ],
   "source": [
    "# 判断key是否存在于字典中\n",
    "d = {'name':'siri', 'gender':'f', 'age':12}\n",
    "\n",
    "if 'age' in d:\n",
    "    print('存在')\n",
    "else:\n",
    "    print('不存在')\n",
    "    \n",
    "if 'age' not in d:\n",
    "    print('不存在')\n",
    "else:\n",
    "    print('存在')"
   ]
  },
  {
   "cell_type": "code",
   "execution_count": 4,
   "id": "cd5841ab-417c-42d6-96d8-37a3cd872158",
   "metadata": {},
   "outputs": [
    {
     "name": "stdout",
     "output_type": "stream",
     "text": [
      "{'name': 'xx1', 'gender': 'f', 'age': [2, 2, 3]}\n",
      "{'name': 'xx1', 'gender': 'f', 'age': [3, 2, 3]}\n",
      "{'name': 'xx2', 'gender': 'f', 'age': [3, 2, 3]}\n"
     ]
    }
   ],
   "source": [
    "# 对子字典的复制 有深复制和浅复制的形式\n",
    "import copy  # 这是浅复制\n",
    "\n",
    "d = {'name':'siri', 'gender':'f', 'age':[1,2,3]}\n",
    "\n",
    "d1 = d # 这是直接复制\n",
    "d['name'] = 'xx1'\n",
    "d['age'][0] = 2\n",
    "print(d1)\n",
    "\n",
    "d2 = d.copy() # 浅复制\n",
    "d['name'] = 'xx2'\n",
    "d['age'][0] = 3\n",
    "print(d2)\n",
    "\n",
    "d3 = copy.deepcopy(d) # 深复制\n",
    "d['age'][0] = 4\n",
    "print(d3)"
   ]
  },
  {
   "cell_type": "code",
   "execution_count": 20,
   "id": "9bf87118-96d8-4c5d-b158-6dc0c2572015",
   "metadata": {},
   "outputs": [
    {
     "name": "stdout",
     "output_type": "stream",
     "text": [
      "{'name': [1, 2], 'age': [1, 2]}\n"
     ]
    }
   ],
   "source": [
    "# 从指定的位置获取为key\n",
    "\n",
    "seq = ('name',  'age')\n",
    "\n",
    "d = dict.fromkeys(seq,[1,2])\n",
    "print(str(d))"
   ]
  },
  {
   "cell_type": "code",
   "execution_count": 19,
   "id": "333a1032-f778-465d-b0b9-326681aea91b",
   "metadata": {},
   "outputs": [
    {
     "name": "stdout",
     "output_type": "stream",
     "text": [
      "12\n"
     ]
    }
   ],
   "source": [
    "# 使用get函数通过key 获取其对应的value\n",
    "d = {'name':'siri', 'gender':'f', 'age':12}\n",
    "print(d.get('age'))"
   ]
  },
  {
   "cell_type": "code",
   "execution_count": 24,
   "id": "e83e2dfd-b2a8-4318-b682-fd9f3a188141",
   "metadata": {},
   "outputs": [
    {
     "name": "stdout",
     "output_type": "stream",
     "text": [
      "12\n",
      "None\n",
      "{'name': 'siri', 'gender': 'f', 'age': 12, 'address': None}\n"
     ]
    }
   ],
   "source": [
    "# 使用setdefault函数,如存在则返回，不存在则添加\n",
    "\n",
    "d = {'name':'siri', 'gender':'f', 'age':12}\n",
    "print(d.setdefault('age', None))\n",
    "\n",
    "print(d.setdefault('address', None))\n",
    "print(d)"
   ]
  },
  {
   "cell_type": "code",
   "execution_count": 12,
   "id": "9bb44876-434a-4b58-beeb-bc70e59cad1a",
   "metadata": {},
   "outputs": [
    {
     "name": "stdout",
     "output_type": "stream",
     "text": [
      "dict_keys(['name', 'gender', 'age'])\n"
     ]
    }
   ],
   "source": [
    "# 使用keys函数获取所有的key\n",
    "d = {'name':'siri', 'gender':'f', 'age':12}\n",
    "print(d.keys())"
   ]
  },
  {
   "cell_type": "code",
   "execution_count": 13,
   "id": "310026b1-93d5-4a66-bb5d-f803a30d91cc",
   "metadata": {},
   "outputs": [
    {
     "name": "stdout",
     "output_type": "stream",
     "text": [
      "dict_values(['siri', 'f', 12])\n"
     ]
    }
   ],
   "source": [
    "# 使用values函数获取所有的value\n",
    "d = {'name':'siri', 'gender':'f', 'age':12}\n",
    "print(d.values())"
   ]
  },
  {
   "cell_type": "code",
   "execution_count": 14,
   "id": "010ff3da-da34-4b9e-bc46-e2f7e4ead8a9",
   "metadata": {},
   "outputs": [
    {
     "name": "stdout",
     "output_type": "stream",
     "text": [
      "{'name': 'siri', 'gender': 'f', 'age': 12, 'address': 'china'}\n"
     ]
    }
   ],
   "source": [
    "# 使用update函数进行更新\n",
    "d = {'name':'siri', 'gender':'f', 'age':12}\n",
    "d2 = {'address':'china'}\n",
    "\n",
    "d.update(d2)\n",
    "print(d)"
   ]
  },
  {
   "cell_type": "code",
   "execution_count": 15,
   "id": "6097270b-18bf-4acb-b981-0458443889c4",
   "metadata": {},
   "outputs": [
    {
     "name": "stdout",
     "output_type": "stream",
     "text": [
      "12\n",
      "{'name': 'siri', 'gender': 'f'}\n"
     ]
    }
   ],
   "source": [
    "# 使用pop函数 移除键值对\n",
    "d = {'name':'siri', 'gender':'f', 'age':12}\n",
    "\n",
    "p = d.pop('age')\n",
    "print(p)\n",
    "print(d)"
   ]
  }
 ],
 "metadata": {
  "kernelspec": {
   "display_name": "Python 3 (ipykernel)",
   "language": "python",
   "name": "python3"
  },
  "language_info": {
   "codemirror_mode": {
    "name": "ipython",
    "version": 3
   },
   "file_extension": ".py",
   "mimetype": "text/x-python",
   "name": "python",
   "nbconvert_exporter": "python",
   "pygments_lexer": "ipython3",
   "version": "3.10.2"
  }
 },
 "nbformat": 4,
 "nbformat_minor": 5
}
