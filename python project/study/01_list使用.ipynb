{
 "cells": [
  {
   "cell_type": "markdown",
   "id": "44c3fda9-f4fb-4cc2-94a1-15a97a487a91",
   "metadata": {},
   "source": [
    "## 使用list\n",
    "+ 序列(列表)是python中最基本的数据结构\n",
    "+ 序列中的每一个值都有对应的位置值, 也就是索引, 第一个索引是0, 最后一个索引是元素个数-1\n",
    "+ 在python中有6个内置类型, 最常见的就是序列和元组\n",
    "+ 对于list的操作有很多, 最常用的就是增,删,查,改 还有 索引, 切片, 加, 乘 等等\n",
    "+ python中内置确定序列的长度和确定最大值,最小值元素的函数\n",
    "+ list的形式是中括号, 元素之间使用逗号隔开 eg: [元素1, 元素2, .. , 元素n]\n",
    "+ list中的数据项不需具有相同的类型"
   ]
  },
  {
   "cell_type": "markdown",
   "id": "9199b50c-b909-4ad4-acde-e755ddce5a66",
   "metadata": {},
   "source": [
    "## 创建和获取list元素\n",
    "### 特别注意: 在使用索引获取指定元素的时候, 一定要注意list的索引范围"
   ]
  },
  {
   "cell_type": "code",
   "execution_count": 7,
   "id": "3fc2c682-99bf-4674-9d49-5aec7238f043",
   "metadata": {},
   "outputs": [
    {
     "name": "stdout",
     "output_type": "stream",
     "text": [
      "['aaa', 'bbb', 'ccc']\n",
      "[111, 222, 333]\n",
      "['hello', 12345]\n",
      "aaa\n",
      "222\n",
      "hello\n"
     ]
    }
   ],
   "source": [
    "list_a = ['aaa', 'bbb', 'ccc']\n",
    "list_b = [111, 222, 333]\n",
    "list_c = ['hello', 12345]\n",
    "\n",
    "print(list_a)\n",
    "print(list_b)\n",
    "print(list_c)\n",
    "\n",
    "# 获取list中指定索引元素\n",
    "print(list_a[0])\n",
    "print(list_b[1])\n",
    "print(list_c[0])"
   ]
  },
  {
   "cell_type": "code",
   "execution_count": 6,
   "id": "4266f5af-9efb-452b-969a-ca08d411ff8b",
   "metadata": {},
   "outputs": [
    {
     "name": "stdout",
     "output_type": "stream",
     "text": [
      "hello\n"
     ]
    }
   ],
   "source": [
    "print(list_c[-2])"
   ]
  },
  {
   "cell_type": "code",
   "execution_count": 5,
   "id": "01fc62c2-62fb-49b6-843e-dd8a6eebd449",
   "metadata": {},
   "outputs": [
    {
     "name": "stdout",
     "output_type": "stream",
     "text": [
      "[11, 22, 33, 44]\n",
      "[11, 22, 33, 44, 55, 66, 77, 88, 99]\n"
     ]
    }
   ],
   "source": [
    "lists = [11, 22, 33, 44, 55, 66, 77, 88, 99]\n",
    "\n",
    "# 从左向又数\n",
    "print(lists[0:4])\n",
    "print(lists[:])"
   ]
  },
  {
   "cell_type": "code",
   "execution_count": 6,
   "id": "745ab724-8473-4170-9117-81df024617df",
   "metadata": {},
   "outputs": [
    {
     "name": "stdout",
     "output_type": "stream",
     "text": [
      "[44, 55, 66, 77, 88, 99]\n",
      "[11, 22]\n"
     ]
    }
   ],
   "source": [
    "print(lists[3:])\n",
    "print(lists[:2])"
   ]
  },
  {
   "cell_type": "code",
   "execution_count": 3,
   "id": "2e0186d3-6670-4344-abcc-c53dacd48cc9",
   "metadata": {},
   "outputs": [
    {
     "name": "stdout",
     "output_type": "stream",
     "text": [
      "[11, 22, 33, 44, 55, 66, 77]\n",
      "[11, 22, 33, 44, 55, 66, 77, 88, 99]\n"
     ]
    }
   ],
   "source": [
    "lists = [11, 22, 33, 44, 55, 66, 77, 88, 99]\n",
    "\n",
    "# 负数值的意思就是从又向左数\n",
    "print(lists[0:-2])\n",
    "print(lists[:])"
   ]
  },
  {
   "cell_type": "markdown",
   "id": "a94b551e-e558-4638-ab40-6bbfc129940b",
   "metadata": {},
   "source": [
    "## 更新list\n",
    "+ 一般都是按照索引对需要的元素进行修改"
   ]
  },
  {
   "cell_type": "code",
   "execution_count": 7,
   "id": "75f245e6-cbed-42ff-bc37-695c514eced5",
   "metadata": {},
   "outputs": [
    {
     "name": "stdout",
     "output_type": "stream",
     "text": [
      "['aaa', 'bbb', 'ccc']\n",
      "['aaa', 'xxx', 'ccc']\n"
     ]
    }
   ],
   "source": [
    "lists = ['aaa', 'bbb', 'ccc']\n",
    "\n",
    "print(lists)\n",
    "\n",
    "lists[1] = 'xxx'\n",
    "\n",
    "print(lists)"
   ]
  },
  {
   "cell_type": "markdown",
   "id": "41aa3a91-b517-4b6a-8769-0889fce8219b",
   "metadata": {},
   "source": [
    "## 删除list中的元素\n",
    "+ 一般是按照索引来删除指定的元素\n",
    "+ 还有就是匹配指定的元素进行删除"
   ]
  },
  {
   "cell_type": "code",
   "execution_count": 8,
   "id": "3531189a-ef4f-44ec-adb0-379d7e629a95",
   "metadata": {},
   "outputs": [
    {
     "name": "stdout",
     "output_type": "stream",
     "text": [
      "['aaa', 'bbb', 'ccc']\n",
      "['aaa', 'ccc']\n"
     ]
    }
   ],
   "source": [
    "lists = ['aaa', 'bbb', 'ccc']\n",
    "\n",
    "print(lists)\n",
    "\n",
    "del lists[1]\n",
    "\n",
    "print(lists)"
   ]
  },
  {
   "cell_type": "markdown",
   "id": "32058259-08d2-4ba9-b258-623a5feee913",
   "metadata": {},
   "source": [
    "## list的操作符"
   ]
  },
  {
   "cell_type": "code",
   "execution_count": 9,
   "id": "53864a16-7cf4-4e3a-b355-fbd1e4d58392",
   "metadata": {},
   "outputs": [
    {
     "name": "stdout",
     "output_type": "stream",
     "text": [
      "[1, 2, 3, 4, 5, 6]\n"
     ]
    }
   ],
   "source": [
    "# list的拼接\n",
    "list_a = [1, 2, 3]\n",
    "list_b = [4, 5, 6]\n",
    "\n",
    "print(list_a + list_b)"
   ]
  },
  {
   "cell_type": "code",
   "execution_count": 11,
   "id": "81701bf9-b6c0-43c9-a6c3-28e7853c31a6",
   "metadata": {},
   "outputs": [
    {
     "name": "stdout",
     "output_type": "stream",
     "text": [
      "******************************\n",
      "['x', 'x', 'x', 'x', 'x']\n"
     ]
    }
   ],
   "source": [
    "list_x = ['x']\n",
    "print('*'*30)\n",
    "print(list_x * 5)"
   ]
  },
  {
   "cell_type": "code",
   "execution_count": 12,
   "id": "dd67889f-43b5-4411-84ce-3c3a42ea7548",
   "metadata": {},
   "outputs": [
    {
     "name": "stdout",
     "output_type": "stream",
     "text": [
      "True\n",
      "False\n"
     ]
    }
   ],
   "source": [
    "# 判断元素是否在列表中 使用关键字 in\n",
    "list_a = [1, 2, 3]\n",
    "print(3 in list_a)\n",
    "print(5 in list_a)"
   ]
  },
  {
   "cell_type": "code",
   "execution_count": 9,
   "id": "2e4138c2-96ac-4e9a-b81c-48a828606817",
   "metadata": {},
   "outputs": [
    {
     "name": "stdout",
     "output_type": "stream",
     "text": [
      "1 2 3 4 5 "
     ]
    }
   ],
   "source": [
    "# 对list进行迭代\n",
    "for i in [1, 2, 3, 4, 5]: print(i, end = ' ')"
   ]
  },
  {
   "cell_type": "markdown",
   "id": "4edb3fc0-d0de-4423-8e16-298f6578cd4c",
   "metadata": {},
   "source": [
    "## list截取"
   ]
  },
  {
   "cell_type": "code",
   "execution_count": 13,
   "id": "0a423f00-66df-48e4-9dee-49b457639e28",
   "metadata": {},
   "outputs": [
    {
     "name": "stdout",
     "output_type": "stream",
     "text": [
      "ccc\n",
      "eee\n",
      "['aaa', 'bbb']\n",
      "['bbb', 'ccc', 'ddd', 'eee']\n"
     ]
    }
   ],
   "source": [
    "lists = ['aaa', 'bbb', 'ccc', 'ddd', 'eee']\n",
    "\n",
    "print(lists[2])\n",
    "print(lists[-1])\n",
    "\n",
    "print(lists[0:2])\n",
    "print(lists[1:])"
   ]
  },
  {
   "cell_type": "markdown",
   "id": "c2e61ad9-54d0-4ee0-b58e-8768f6791d0f",
   "metadata": {},
   "source": [
    "## 嵌套list"
   ]
  },
  {
   "cell_type": "code",
   "execution_count": 11,
   "id": "dcc0639a-c675-4b7a-802d-63a376dbb787",
   "metadata": {},
   "outputs": [
    {
     "name": "stdout",
     "output_type": "stream",
     "text": [
      "[['a', 'b', 'c'], [1, 2, 3]]\n",
      "['a', 'b', 'c']\n",
      "b\n"
     ]
    }
   ],
   "source": [
    "list_a = ['a', 'b', 'c']\n",
    "list_b = [1, 2, 3]\n",
    "list_c = [list_a, list_b]\n",
    "\n",
    "print(list_c)\n",
    "print(list_c[0])\n",
    "print(list_c[0][1])"
   ]
  },
  {
   "cell_type": "markdown",
   "id": "056a3edc-382a-4c61-8c7a-e80a5c875115",
   "metadata": {},
   "source": [
    "## list中的常用函数"
   ]
  },
  {
   "cell_type": "code",
   "execution_count": 14,
   "id": "7953d826-df12-4e0c-9364-3eaffd6d16cd",
   "metadata": {},
   "outputs": [
    {
     "name": "stdout",
     "output_type": "stream",
     "text": [
      "3\n"
     ]
    }
   ],
   "source": [
    "# 使用len函数获取list的长度\n",
    "list_a = [11, 22, 33]\n",
    "print(len(list_a))"
   ]
  },
  {
   "cell_type": "code",
   "execution_count": 16,
   "id": "cb9c6e11-98f9-428d-8f7e-0c3f17e588fe",
   "metadata": {},
   "outputs": [
    {
     "name": "stdout",
     "output_type": "stream",
     "text": [
      "['h', 'e', ' ', ' ', ' ', 'l', 'l', 'o']\n"
     ]
    }
   ],
   "source": [
    "# 使用list函数将字符串转换为list\n",
    "str1 = 'he   llo'\n",
    "list_str = list(str1)\n",
    "print(list_str)"
   ]
  },
  {
   "cell_type": "code",
   "execution_count": 21,
   "id": "27c457fd-fa06-4d79-a0db-eefbd3a9f942",
   "metadata": {},
   "outputs": [
    {
     "name": "stdout",
     "output_type": "stream",
     "text": [
      "[11, 22, 33, 55]\n"
     ]
    }
   ],
   "source": [
    "# 使用append函数将元素添加到列表的末尾\n",
    "list_a = [11, 22, 33]\n",
    "list_a.append(55)\n",
    "print(list_a)"
   ]
  },
  {
   "cell_type": "code",
   "execution_count": 22,
   "id": "5c2154da-396f-4a0d-9f27-0589bf9e7c08",
   "metadata": {},
   "outputs": [
    {
     "name": "stdout",
     "output_type": "stream",
     "text": [
      "[11, 22, 33, 55, 11, 22, 33]\n"
     ]
    }
   ],
   "source": [
    "list_b = [11, 22, 33]\n",
    "list_a.extend(list_b)\n",
    "print(list_a)"
   ]
  },
  {
   "cell_type": "code",
   "execution_count": 23,
   "id": "92ec9e8e-150a-4e3d-99b5-9ae64ea54673",
   "metadata": {},
   "outputs": [
    {
     "name": "stdout",
     "output_type": "stream",
     "text": [
      "2\n"
     ]
    }
   ],
   "source": [
    "# 使用count函数统计某个元素在列表中出现的次数\n",
    "lists = ['aa', 'bb', 'aa', 'cc']\n",
    "print(lists.count('aa'))"
   ]
  },
  {
   "cell_type": "code",
   "execution_count": 2,
   "id": "167f9170-64b2-4eab-bd15-9416d2946b35",
   "metadata": {},
   "outputs": [
    {
     "name": "stdout",
     "output_type": "stream",
     "text": [
      "[11, 22, 33, 77, 88, 99]\n"
     ]
    }
   ],
   "source": [
    "# 使用extend函数向list中一次性追加多个值\n",
    "list_a = [11, 22, 33]\n",
    "list_b = [77, 88, 99]\n",
    "list_a.extend(list_b)\n",
    "print(list_a)"
   ]
  },
  {
   "cell_type": "code",
   "execution_count": 26,
   "id": "237fdff0-9de6-469d-a4d8-817c2e20c02d",
   "metadata": {},
   "outputs": [
    {
     "name": "stdout",
     "output_type": "stream",
     "text": [
      "3\n"
     ]
    }
   ],
   "source": [
    "# 通过index函数获取指定元素第一次出现所在的下标\n",
    "lists = ['aa', 'bb', 'aa', 'cc']\n",
    "print(lists.index('cc'))"
   ]
  },
  {
   "cell_type": "code",
   "execution_count": 27,
   "id": "61a7dd04-28ed-40b8-b1aa-f08082c24f44",
   "metadata": {},
   "outputs": [
    {
     "name": "stdout",
     "output_type": "stream",
     "text": [
      "['aa', 'xx', 'bb', 'cc']\n"
     ]
    }
   ],
   "source": [
    "# 通过insert函数向指定位置插入元素\n",
    "lists = ['aa', 'bb', 'cc']\n",
    "lists.insert(1, 'xx')\n",
    "print(lists)"
   ]
  },
  {
   "cell_type": "code",
   "execution_count": 28,
   "id": "fee4897c-cf0e-477d-a8ca-a6dcfd60d71b",
   "metadata": {},
   "outputs": [
    {
     "name": "stdout",
     "output_type": "stream",
     "text": [
      "dd\n",
      "['aa', 'bb', 'cc']\n",
      "aa\n",
      "['bb', 'cc']\n"
     ]
    }
   ],
   "source": [
    "# 使用pop函数移除list中的元素\n",
    "lists = ['aa', 'bb', 'cc', 'dd']\n",
    "\n",
    "# 默认情况下是弹出最后一个元素\n",
    "p = lists.pop()\n",
    "print(p)\n",
    "print(lists)\n",
    "\n",
    "# 也可以指定弹出的元素\n",
    "p = lists.pop(0)\n",
    "print(p)\n",
    "print(lists)"
   ]
  },
  {
   "cell_type": "code",
   "execution_count": 29,
   "id": "d3d6a9cb-d3a6-4942-9486-117afb292bba",
   "metadata": {},
   "outputs": [
    {
     "name": "stdout",
     "output_type": "stream",
     "text": [
      "None\n",
      "['bb', 'aa', 'cc']\n"
     ]
    }
   ],
   "source": [
    "# 使用remove函数移除指定元素第一次出现\n",
    "lists = ['aa', 'bb', 'aa', 'cc']\n",
    "\n",
    "r = lists.remove('aa')\n",
    "print(r)\n",
    "print(lists)"
   ]
  },
  {
   "cell_type": "code",
   "execution_count": 21,
   "id": "68bed040-57d0-47b2-920f-801e3b76b15f",
   "metadata": {},
   "outputs": [
    {
     "name": "stdout",
     "output_type": "stream",
     "text": [
      "['cc', 'bb', 'aa']\n"
     ]
    }
   ],
   "source": [
    "# 使用reverse函数对list进行反转\n",
    "lists = ['aa', 'bb', 'cc']\n",
    "lists.reverse()\n",
    "print(lists)"
   ]
  },
  {
   "cell_type": "code",
   "execution_count": 22,
   "id": "a032d499-a8b0-4ec9-a024-37e0e321a72e",
   "metadata": {},
   "outputs": [
    {
     "name": "stdout",
     "output_type": "stream",
     "text": [
      "[1, 2, 3, 4, 5]\n"
     ]
    }
   ],
   "source": [
    "# 使用sort函数对list进行排序\n",
    "nums = [3, 2, 4, 1, 5]\n",
    "nums.sort()\n",
    "print(nums)"
   ]
  },
  {
   "cell_type": "code",
   "execution_count": 33,
   "id": "4b93ec29-9a3d-414b-a5fa-66098fa3276d",
   "metadata": {},
   "outputs": [
    {
     "name": "stdout",
     "output_type": "stream",
     "text": [
      "[11, 22, 33]\n",
      "[11, 'bb', 33]\n"
     ]
    }
   ],
   "source": [
    "# 使用copy函数赋值list\n",
    "list_a = [11, 22, 33]\n",
    "b = list_a\n",
    "c = list_a.copy()\n",
    "list_a[1] = 'bb'\n",
    "print(c)\n",
    "print(b)"
   ]
  },
  {
   "cell_type": "code",
   "execution_count": 24,
   "id": "87c591f1-4c52-4aa6-a34a-89bc6cde90b8",
   "metadata": {},
   "outputs": [
    {
     "name": "stdout",
     "output_type": "stream",
     "text": [
      "[]\n"
     ]
    }
   ],
   "source": [
    "# 使用clear函数清空列表\n",
    "lists = ['aa', 'bb', 'cc']\n",
    "lists.clear()\n",
    "print(lists)"
   ]
  }
 ],
 "metadata": {
  "kernelspec": {
   "display_name": "Python 3 (ipykernel)",
   "language": "python",
   "name": "python3"
  },
  "language_info": {
   "codemirror_mode": {
    "name": "ipython",
    "version": 3
   },
   "file_extension": ".py",
   "mimetype": "text/x-python",
   "name": "python",
   "nbconvert_exporter": "python",
   "pygments_lexer": "ipython3",
   "version": "3.10.2"
  }
 },
 "nbformat": 4,
 "nbformat_minor": 5
}
