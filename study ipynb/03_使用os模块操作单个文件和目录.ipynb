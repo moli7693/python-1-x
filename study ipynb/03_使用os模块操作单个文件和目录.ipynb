{
 "cells": [
  {
   "cell_type": "markdown",
   "metadata": {},
   "source": [
    "# **使用os模块操作单个文件和目录**\n",
    "\n",
    "+ Python os 模块提供了一个统一的操作系统接口函数（特别对文件）。\n",
    "+ os 模块能在不同操作系统平台（如 nt 或 posix）中的特定函数间自动切换,从而能实现跨平台操作。"
   ]
  },
  {
   "cell_type": "markdown",
   "metadata": {},
   "source": [
    "## **文件路径**\n",
    "在程序编程中，我们会通过文件的路径来访问（写入操作/读取操作）指定的文件。\n",
    "访问文件路径分为两类方式：\n",
    "+ 绝对路径\n",
    "    + 绝对路径是由 驱动器字母+文件所在的完整路径+文件名称 组成的。\n",
    "        + 如果是Windows系统，那么某一个文件的绝对路径例如:  `D:\\dev\\python\\ch01-demo01.py`\n",
    "        + 在Unix平台上，文件的绝对路径例如：`/home/python/ch01-dmeo01.py`\n",
    "+ 相对路径\n",
    "    + 是相对与文件当前的工作路径而言，例如：` ./ch01-demo01.py`"
   ]
  },
  {
   "cell_type": "markdown",
   "metadata": {},
   "source": [
    "## **os模块介绍**\n",
    "+ os模块 是Python编程语言获取文件相关参数（如：文件路径、文件名称、文件大小、修改时间……等）的重要操作模块。（特别说明：os模块不参与文件的读写操作）\n",
    "+ os模块 是Python语言的内置模块，但不属于脚本默认导入模块，因此在使用的时候需要使用 import 关键字预先导入后方可使用。\n",
    "\n",
    "`import os`"
   ]
  },
  {
   "cell_type": "markdown",
   "metadata": {},
   "source": [
    "## **Python中查看文件路径及文件名称** \n",
    "使用os模块查看当前脚本文件的目录、文件名称、文件大小等相关参数信息。\n",
    "+ 查看当前文件的绝对路径地址\n",
    "    + 函数：os.path.realpath( 文件对象  )，该函数返回指定文件对象的绝对访问路径地址。"
   ]
  },
  {
   "cell_type": "code",
   "execution_count": 1,
   "metadata": {
    "scrolled": false
   },
   "outputs": [
    {
     "ename": "NameError",
     "evalue": "name '__file__' is not defined",
     "output_type": "error",
     "traceback": [
      "\u001b[1;31m---------------------------------------------------------------------------\u001b[0m",
      "\u001b[1;31mNameError\u001b[0m                                 Traceback (most recent call last)",
      "\u001b[1;32m<ipython-input-1-ded4897191de>\u001b[0m in \u001b[0;36m<module>\u001b[1;34m\u001b[0m\n\u001b[0;32m      2\u001b[0m \u001b[1;32mimport\u001b[0m \u001b[0mos\u001b[0m\u001b[1;33m\u001b[0m\u001b[1;33m\u001b[0m\u001b[0m\n\u001b[0;32m      3\u001b[0m \u001b[1;33m\u001b[0m\u001b[0m\n\u001b[1;32m----> 4\u001b[1;33m \u001b[0mabsoluteFile\u001b[0m \u001b[1;33m=\u001b[0m \u001b[0mos\u001b[0m\u001b[1;33m.\u001b[0m\u001b[0mpath\u001b[0m\u001b[1;33m.\u001b[0m\u001b[0mrealpath\u001b[0m\u001b[1;33m(\u001b[0m\u001b[0m__file__\u001b[0m\u001b[1;33m)\u001b[0m\u001b[1;33m\u001b[0m\u001b[1;33m\u001b[0m\u001b[0m\n\u001b[0m\u001b[0;32m      5\u001b[0m \u001b[0mprint\u001b[0m\u001b[1;33m(\u001b[0m\u001b[1;34m'当前文件的路径：{}'\u001b[0m\u001b[1;33m.\u001b[0m\u001b[0mformat\u001b[0m\u001b[1;33m(\u001b[0m\u001b[0mabsoluteFile\u001b[0m\u001b[1;33m)\u001b[0m\u001b[1;33m)\u001b[0m\u001b[1;33m\u001b[0m\u001b[1;33m\u001b[0m\u001b[0m\n\u001b[0;32m      6\u001b[0m \u001b[1;33m\u001b[0m\u001b[0m\n",
      "\u001b[1;31mNameError\u001b[0m: name '__file__' is not defined"
     ]
    }
   ],
   "source": [
    "#输出当前文件的绝对路径\n",
    "import os\n",
    "\n",
    "absoluteFile = os.path.realpath(__file__)\n",
    "print('当前文件的路径：{}'.format(absoluteFile))\n",
    "\n",
    "#运行结果为：当前文件的路径：D:\\python 1+X\\Python 1+X初级内容\\09_演练_读写文件及访问文件系统\\os_test.py 在vscode等工具中可以执行，获取绝对路径"
   ]
  },
  {
   "cell_type": "markdown",
   "metadata": {},
   "source": [
    "+ 查看当前文件的所在目录绝对路径地址\n",
    "    + 函数：os.path.dirname( 文件绝对路径  )，该函数返回指定文件对象所在目录的绝对路径地址。"
   ]
  },
  {
   "cell_type": "code",
   "execution_count": 2,
   "metadata": {
    "scrolled": false
   },
   "outputs": [
    {
     "name": "stdout",
     "output_type": "stream",
     "text": [
      "当前文件的目录：D:\\python 1+X\\Python 1+X初级内容\\09_演练_读写文件及访问文件系统\n"
     ]
    }
   ],
   "source": [
    "#从当前文件路径中获取文件目录\n",
    "\n",
    "absoluteFile = 'D:\\\\python 1+X\\\\Python 1+X初级内容\\\\09_演练_读写文件及访问文件系统\\\\os_test.py'\n",
    "\n",
    "absoluteDir = os.path.dirname(absoluteFile)\n",
    "print('当前文件的目录：{}'.format(absoluteDir))\n",
    "\n",
    "#运行结果为：当前文件的目录：D:\\python 1+X\\Python 1+X初级内容\\09_演练_读写文件及访问文件系统"
   ]
  },
  {
   "cell_type": "markdown",
   "metadata": {},
   "source": [
    "+ 查看当前文件的名称\n",
    "    + 函数：os.path.basename( 文件绝对路径  )，该函数返回指定文件对象的名称。"
   ]
  },
  {
   "cell_type": "code",
   "execution_count": 4,
   "metadata": {
    "scrolled": true
   },
   "outputs": [
    {
     "name": "stdout",
     "output_type": "stream",
     "text": [
      "当前文件的名称：os_test.py\n"
     ]
    }
   ],
   "source": [
    "#从当前文件路径中获取文件名称\n",
    "\n",
    "fileName = os.path.basename(absoluteFile)\n",
    "print(\"当前文件的名称：{}\".format(fileName))\n",
    "\n",
    "#运行结果为：当前文件的名称：os_test.py"
   ]
  },
  {
   "cell_type": "markdown",
   "metadata": {},
   "source": [
    "+ 查看当前工程文件夹的绝对路径地址\n",
    "    + 函数：os.getcwd( )，该函数返回当前工程文件夹的绝对路径地址。"
   ]
  },
  {
   "cell_type": "code",
   "execution_count": 6,
   "metadata": {},
   "outputs": [
    {
     "name": "stdout",
     "output_type": "stream",
     "text": [
      "当前工程文件夹：D:\\python 1+X\\Python 1+X初级内容\\09_演练_读写文件及访问文件系统\n"
     ]
    }
   ],
   "source": [
    "#获取当前工程的所在目录\n",
    "\n",
    "projectDir = os.getcwd()\n",
    "print(\"当前工程文件夹：{}\".format(projectDir))"
   ]
  },
  {
   "cell_type": "markdown",
   "metadata": {},
   "source": [
    "+ 查看当前文件的大小\n",
    "    + 函数：os.path.getsize( 文件绝对路径  )，该函数返回指定文件对象的大小（单位为字节）。"
   ]
  },
  {
   "cell_type": "code",
   "execution_count": 8,
   "metadata": {
    "scrolled": true
   },
   "outputs": [
    {
     "name": "stdout",
     "output_type": "stream",
     "text": [
      "当前文档的大小：116字节\n"
     ]
    }
   ],
   "source": [
    "#获取指定路径文件的大小\n",
    "\n",
    "fileSize = os.path.getsize(absoluteFile)\n",
    "print('当前文档的大小：{}字节'.format(fileSize))"
   ]
  },
  {
   "cell_type": "markdown",
   "metadata": {},
   "source": [
    "+ 判断文件夹或文件\n",
    "\n",
    "    + 当访问到一个文件时，需要知道该文件是一个 文件夹？ 还是一个 文件？\n",
    "    + 需要使用 函数：os.path.isdir( 文件对象 ) 函数判断，该函数返回 bool类型。"
   ]
  },
  {
   "cell_type": "code",
   "execution_count": 9,
   "metadata": {},
   "outputs": [
    {
     "name": "stdout",
     "output_type": "stream",
     "text": [
      "这是一个文件！\n"
     ]
    }
   ],
   "source": [
    "if os.path.isdir(absoluteFile):\n",
    "    print(\"这是一个文件夹！\")\n",
    "else:\n",
    "    print(\"这是一个文件！\")"
   ]
  },
  {
   "cell_type": "markdown",
   "metadata": {},
   "source": [
    "+ 获取文件夹的中所有文件名\n",
    "    + 查看当前文件夹的中的文件名称（默认获取文件夹或文件名称，不会继续查看文件夹中的子文件内容）\n",
    "    + 函数：os.listdir( )，返回一个列表对象，若参数为空，则返回当前工程文件夹中的所有文件和文件夹名称。"
   ]
  },
  {
   "cell_type": "code",
   "execution_count": 12,
   "metadata": {
    "scrolled": true
   },
   "outputs": [
    {
     "name": "stdout",
     "output_type": "stream",
     "text": [
      "['.ipynb_checkpoints', '01_使用file读写文本文件.ipynb', '02_使用file读写二进制文件.ipynb', '03_使用os模块操作单个文件和目录.ipynb', '04_使用os模块遍历目录.ipynb', 'data', 'os_test.py', 'package_test', '演练_读写文件和文件系统访问实验.ipynb_checkpoints']\n"
     ]
    }
   ],
   "source": [
    "import os\n",
    "\n",
    "lst = os.listdir('D:\\\\python 1+X\\\\Python 1+X初级内容\\\\09_演练_读写文件及访问文件系统')\n",
    "print(lst)"
   ]
  }
 ],
 "metadata": {
  "kernelspec": {
   "display_name": "Python 3.8.3 ('base')",
   "language": "python",
   "name": "python3"
  },
  "language_info": {
   "codemirror_mode": {
    "name": "ipython",
    "version": 3
   },
   "file_extension": ".py",
   "mimetype": "text/x-python",
   "name": "python",
   "nbconvert_exporter": "python",
   "pygments_lexer": "ipython3",
   "version": "3.8.3"
  },
  "vscode": {
   "interpreter": {
    "hash": "6a018d3a992d78c184ccc94ab54168c7b26325ed3c2283926339c3edbf5487e7"
   }
  }
 },
 "nbformat": 4,
 "nbformat_minor": 5
}
