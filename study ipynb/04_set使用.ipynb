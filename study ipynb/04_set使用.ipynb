{
 "cells": [
  {
   "cell_type": "markdown",
   "id": "9b11d447-cade-44c3-8b9b-1d6c4e3bd9b2",
   "metadata": {},
   "source": [
    "## 使用set\n",
    "+ 更加相似于数学意义上的集合\n",
    "+ set中的元素是不重复的, 不保证有顺序的\n",
    "+ 可以使用大括号或者set()的形式创建集合\n",
    "+ 如果要创建一个空集合, 则必须使用set()"
   ]
  },
  {
   "cell_type": "code",
   "execution_count": 4,
   "id": "030e0739-ecb4-4dd5-9d69-8e4a3fa5710c",
   "metadata": {},
   "outputs": [
    {
     "name": "stdout",
     "output_type": "stream",
     "text": [
      "<class 'dict'>\n",
      "{'bb', 'aa', 'cc'}\n",
      "{56, 'bb', 'aa', 'cc'}\n",
      "<class 'set'>\n"
     ]
    }
   ],
   "source": [
    "# 这样创建出来的是字典类型\n",
    "s = {}\n",
    "print(type(s))\n",
    "\n",
    "s1 = {'aa', 'bb', 'cc'}\n",
    "print(s1)\n",
    "\n",
    "s2 = {'aa', 'bb', 'cc', 'bb',56}\n",
    "print(s2)\n",
    "\n",
    "s3 = set()\n",
    "print(type(s3))"
   ]
  },
  {
   "cell_type": "code",
   "execution_count": 6,
   "id": "c4ef1fa2-a947-4eee-ac41-aec1bb6fa20b",
   "metadata": {},
   "outputs": [
    {
     "name": "stdout",
     "output_type": "stream",
     "text": [
      "False\n"
     ]
    }
   ],
   "source": [
    "# 判断元素是否在集合内\n",
    "s1 = {'aa', 'bb', 'cc'}\n",
    "\n",
    "print('ee' in s1)"
   ]
  },
  {
   "cell_type": "markdown",
   "id": "a3f5b4b6-6954-42c8-a218-cb7489a042ba",
   "metadata": {},
   "source": [
    "## 集合的操作符"
   ]
  },
  {
   "cell_type": "code",
   "execution_count": 9,
   "id": "28ed50fa-04e0-4be5-af71-85229af1180c",
   "metadata": {},
   "outputs": [
    {
     "name": "stdout",
     "output_type": "stream",
     "text": [
      "s1 : {'a', 'd', 'e', 'c', 'b'}\n",
      "s2 : {'a', 'k', 'j', 'h', 'f', 'g'}\n",
      "******************************\n",
      "{'d', 'e', 'c', 'b'}\n",
      "{'f', 'a', 'd', 'j', 'e', 'h', 'c', 'k', 'g', 'b'}\n",
      "{'a'}\n",
      "{'e', 'h', 'k', 'd', 'j', 'c', 'f', 'g', 'b'}\n"
     ]
    }
   ],
   "source": [
    "s1 = set('abcade')\n",
    "s2 = set('fgahjk')\n",
    "print('s1 :',s1)\n",
    "print('s2 :',s2)\n",
    "print('*'*30)\n",
    "\n",
    "print(str(s1 - s2))\n",
    "print(str(s1 | s2))\n",
    "print(str(s1 & s2))\n",
    "print(str(s1 ^ s2))"
   ]
  },
  {
   "cell_type": "markdown",
   "id": "0099d8c9-7227-4515-90e5-aae99c22aaed",
   "metadata": {},
   "source": [
    "## 向集合中添加元素\n",
    "+ 需要注意的是, 该元素是否在集合中已经存在"
   ]
  },
  {
   "cell_type": "code",
   "execution_count": 4,
   "id": "f6d78c11-eb3f-4468-ab62-dd95b5340136",
   "metadata": {},
   "outputs": [
    {
     "name": "stdout",
     "output_type": "stream",
     "text": [
      "{'bb', 'xx', 'aa', 'cc'}\n"
     ]
    }
   ],
   "source": [
    "s1 = {'aa', 'bb', 'cc'}\n",
    "\n",
    "s1.add('xx')\n",
    "print(s1)"
   ]
  },
  {
   "cell_type": "code",
   "execution_count": 11,
   "id": "f4115cd8-711f-4470-a06f-d3c016db6668",
   "metadata": {},
   "outputs": [
    {
     "name": "stdout",
     "output_type": "stream",
     "text": [
      "{'aa', 'cc', 22, 'bb', 11}\n"
     ]
    }
   ],
   "source": [
    "s1 = {'aa', 'bb', 'cc'}\n",
    "s2 = {11, 22}\n",
    "\n",
    "s1.update(s2)\n",
    "print(s1)"
   ]
  },
  {
   "cell_type": "code",
   "execution_count": 10,
   "id": "8e75ec85-d76e-4726-b7b9-e14864a68d16",
   "metadata": {},
   "outputs": [
    {
     "ename": "TypeError",
     "evalue": "unhashable type: 'set'",
     "output_type": "error",
     "traceback": [
      "\u001b[1;31m---------------------------------------------------------------------------\u001b[0m",
      "\u001b[1;31mTypeError\u001b[0m                                 Traceback (most recent call last)",
      "Input \u001b[1;32mIn [10]\u001b[0m, in \u001b[0;36m<cell line: 4>\u001b[1;34m()\u001b[0m\n\u001b[0;32m      1\u001b[0m s1 \u001b[38;5;241m=\u001b[39m {\u001b[38;5;124m'\u001b[39m\u001b[38;5;124maa\u001b[39m\u001b[38;5;124m'\u001b[39m, \u001b[38;5;124m'\u001b[39m\u001b[38;5;124mbb\u001b[39m\u001b[38;5;124m'\u001b[39m, \u001b[38;5;124m'\u001b[39m\u001b[38;5;124mcc\u001b[39m\u001b[38;5;124m'\u001b[39m}\n\u001b[0;32m      2\u001b[0m s2 \u001b[38;5;241m=\u001b[39m {\u001b[38;5;241m11\u001b[39m, \u001b[38;5;241m22\u001b[39m}\n\u001b[1;32m----> 4\u001b[0m \u001b[43ms1\u001b[49m\u001b[38;5;241;43m.\u001b[39;49m\u001b[43madd\u001b[49m\u001b[43m(\u001b[49m\u001b[43ms2\u001b[49m\u001b[43m)\u001b[49m\n\u001b[0;32m      5\u001b[0m \u001b[38;5;28mprint\u001b[39m(s1)\n",
      "\u001b[1;31mTypeError\u001b[0m: unhashable type: 'set'"
     ]
    }
   ],
   "source": [
    "s1 = {'aa', 'bb', 'cc'}\n",
    "s2 = {11, 22}\n",
    "\n",
    "s1.add(s2)\n",
    "print(s1)"
   ]
  },
  {
   "cell_type": "markdown",
   "id": "244c2f69-164c-47fe-a7de-923d24bee14c",
   "metadata": {},
   "source": [
    "## 删除元素"
   ]
  },
  {
   "cell_type": "code",
   "execution_count": 6,
   "id": "d354475f-f118-44a0-9356-7de064a57e5d",
   "metadata": {},
   "outputs": [
    {
     "name": "stdout",
     "output_type": "stream",
     "text": [
      "{'aa', 'cc'}\n"
     ]
    }
   ],
   "source": [
    "s1 = {'aa', 'bb', 'cc'}\n",
    "\n",
    "s1.remove('bb')\n",
    "print(s1)"
   ]
  },
  {
   "cell_type": "code",
   "execution_count": 7,
   "id": "2be420ed-81c9-4467-b6bd-1703af26a267",
   "metadata": {},
   "outputs": [
    {
     "ename": "KeyError",
     "evalue": "'xx'",
     "output_type": "error",
     "traceback": [
      "\u001b[1;31m---------------------------------------------------------------------------\u001b[0m",
      "\u001b[1;31mKeyError\u001b[0m                                  Traceback (most recent call last)",
      "Input \u001b[1;32mIn [7]\u001b[0m, in \u001b[0;36m<cell line: 3>\u001b[1;34m()\u001b[0m\n\u001b[0;32m      1\u001b[0m s1 \u001b[38;5;241m=\u001b[39m {\u001b[38;5;124m'\u001b[39m\u001b[38;5;124maa\u001b[39m\u001b[38;5;124m'\u001b[39m, \u001b[38;5;124m'\u001b[39m\u001b[38;5;124mbb\u001b[39m\u001b[38;5;124m'\u001b[39m, \u001b[38;5;124m'\u001b[39m\u001b[38;5;124mcc\u001b[39m\u001b[38;5;124m'\u001b[39m}\n\u001b[1;32m----> 3\u001b[0m \u001b[43ms1\u001b[49m\u001b[38;5;241;43m.\u001b[39;49m\u001b[43mremove\u001b[49m\u001b[43m(\u001b[49m\u001b[38;5;124;43m'\u001b[39;49m\u001b[38;5;124;43mxx\u001b[39;49m\u001b[38;5;124;43m'\u001b[39;49m\u001b[43m)\u001b[49m\n",
      "\u001b[1;31mKeyError\u001b[0m: 'xx'"
     ]
    }
   ],
   "source": [
    "s1 = {'aa', 'bb', 'cc'}\n",
    "\n",
    "s1.remove('xx')"
   ]
  },
  {
   "cell_type": "code",
   "execution_count": 15,
   "id": "6f344e2e-b513-43a6-8ad5-e3ce31151dcb",
   "metadata": {},
   "outputs": [
    {
     "name": "stdout",
     "output_type": "stream",
     "text": [
      "{'bb', 'aa', 'cc'}\n"
     ]
    }
   ],
   "source": [
    "s1 = {'aa', 'bb', 'cc'}\n",
    "\n",
    "s1.discard('xx') #存在就删除，不存在则不删除且不会报错\n",
    "\n",
    "print(s1)"
   ]
  },
  {
   "cell_type": "code",
   "execution_count": 11,
   "id": "2c324138-73a7-45a6-9236-52a19f7e6e3b",
   "metadata": {},
   "outputs": [
    {
     "name": "stdout",
     "output_type": "stream",
     "text": [
      "bb\n",
      "{'aa', 'cc'}\n"
     ]
    }
   ],
   "source": [
    "# 弹出一个元素\n",
    "s1 = {'aa', 'bb', 'cc'}\n",
    "\n",
    "p = s1.pop()\n",
    "\n",
    "print(p)\n",
    "print(s1)"
   ]
  },
  {
   "cell_type": "code",
   "execution_count": 12,
   "id": "db482c75-6629-42ef-a4dd-59a57620ab53",
   "metadata": {},
   "outputs": [
    {
     "name": "stdout",
     "output_type": "stream",
     "text": [
      "3\n"
     ]
    }
   ],
   "source": [
    "# 统计集合中的元素个数\n",
    "s1 = {'aa', 'bb', 'cc'}\n",
    "print(len(s1))"
   ]
  },
  {
   "cell_type": "code",
   "execution_count": 13,
   "id": "992e2676-d772-4744-bea6-bf98f08711e1",
   "metadata": {},
   "outputs": [
    {
     "name": "stdout",
     "output_type": "stream",
     "text": [
      "set()\n"
     ]
    }
   ],
   "source": [
    "# 清空集合\n",
    "s1 = {'aa', 'bb', 'cc'}\n",
    "s1.clear()\n",
    "print(s1)"
   ]
  },
  {
   "cell_type": "code",
   "execution_count": null,
   "id": "0e2c5a97-d50f-41de-ae0f-2d9217f79baf",
   "metadata": {},
   "outputs": [],
   "source": []
  }
 ],
 "metadata": {
  "kernelspec": {
   "display_name": "Python 3 (ipykernel)",
   "language": "python",
   "name": "python3"
  },
  "language_info": {
   "codemirror_mode": {
    "name": "ipython",
    "version": 3
   },
   "file_extension": ".py",
   "mimetype": "text/x-python",
   "name": "python",
   "nbconvert_exporter": "python",
   "pygments_lexer": "ipython3",
   "version": "3.10.2"
  }
 },
 "nbformat": 4,
 "nbformat_minor": 5
}
