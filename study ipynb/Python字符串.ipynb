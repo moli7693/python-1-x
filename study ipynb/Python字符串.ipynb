{
 "cells": [
  {
   "attachments": {},
   "cell_type": "markdown",
   "metadata": {},
   "source": [
    "1、join（）函数拼接：sep.join（iterable）\n",
    "释：以sep作为分隔符，将iterable中所有的元素合并为一个新的字符串。"
   ]
  },
  {
   "cell_type": "code",
   "execution_count": 22,
   "metadata": {},
   "outputs": [
    {
     "name": "stdout",
     "output_type": "stream",
     "text": [
      "www.baidu.com\n",
      "User/andy/code\n"
     ]
    }
   ],
   "source": [
    "list_val = ['www','baidu','com']\n",
    "str_val = '.'.join(list_val)\n",
    "print(str_val)\n",
    " \n",
    "tuple = ('User','andy','code')\n",
    "str_val = '/'.join(tuple)\n",
    "print(str_val)"
   ]
  },
  {
   "attachments": {},
   "cell_type": "markdown",
   "metadata": {},
   "source": [
    "2、大小写的转换：\n",
    "\n",
    "（1）方法upper（）：将小写字母化为大写字母。\n",
    "\n",
    "（2）方法lower（）：将大写字母化为小写字母。\n",
    "\n",
    "（3）方法title（）：所有单词的首字母是大写，其余均为小写\n",
    "\n",
    "（4）方法capitalize（）：将字符串的第一个字符转换为大写。\n",
    "\n",
    "（5）方法swapcase（）：将字符串中大写转换成小写，小写转换成大写。\n"
   ]
  },
  {
   "cell_type": "code",
   "execution_count": 23,
   "metadata": {},
   "outputs": [
    {
     "name": "stdout",
     "output_type": "stream",
     "text": [
      "I LOVE PYTHON\n",
      "i love python\n",
      "I Love Python\n",
      "I love python\n",
      "i LOVE pYTHON\n"
     ]
    }
   ],
   "source": [
    "str1 = 'I love Python'\n",
    "str2 = str1.upper()\n",
    "str3 = str1.lower()\n",
    "str4 = str1.title()\n",
    "str5 = str1.capitalize()\n",
    "str6 = str1.swapcase()\n",
    "print(str2,str3,str4,str5,str6,sep = '\\n')"
   ]
  },
  {
   "attachments": {},
   "cell_type": "markdown",
   "metadata": {},
   "source": [
    "3、 常用的检索方法：\n",
    "\n",
    "（1）方法count（）：统计字符串里指定子字符出现的次数。（区分大小写）\n",
    "str.count（“被检索的字符串”，检索的起始位置，检索的结束位置）\n",
    "\n",
    "\n",
    "注意：起始位置和结束位置可省略，默认为第一个字符到最后一个字符，第一个字符索引值为0。"
   ]
  },
  {
   "cell_type": "code",
   "execution_count": 24,
   "metadata": {},
   "outputs": [
    {
     "name": "stdout",
     "output_type": "stream",
     "text": [
      "3\n",
      "0\n"
     ]
    }
   ],
   "source": [
    "str = \"LoveYouPython\"\n",
    "print(str.count(\"o\"))\n",
    "print(str.count(\"O\"))"
   ]
  },
  {
   "attachments": {},
   "cell_type": "markdown",
   "metadata": {},
   "source": [
    "（2）方法find（）：查找某字符串里是否包含被查询的子字符串。\n",
    "\n",
    "str.find（“被检索的字符串”，检索的起始位置，检索的结束位置）\n",
    "\n",
    "\n",
    "注意：如果找到被查询的第一个子字符串，此方法返回该字符串的索引，否则返回-1，代表没有找到该字符串。"
   ]
  },
  {
   "cell_type": "code",
   "execution_count": 25,
   "metadata": {},
   "outputs": [
    {
     "name": "stdout",
     "output_type": "stream",
     "text": [
      "1\n",
      "-1\n"
     ]
    }
   ],
   "source": [
    "str = \"LoveYouPython\"\n",
    "print(str.find(\"o\"))\n",
    "print(str.find(\"O\"))"
   ]
  },
  {
   "attachments": {},
   "cell_type": "markdown",
   "metadata": {},
   "source": [
    "（3）方法index（）：查找某字符串里是否包含被查询的子字符串。\n",
    "\n",
    "str.index（“被检索的字符串”，检索的起始位置，检索的结束位置）\n",
    "\n",
    "\n",
    "注意：如果找到被查询的第一个子字符串，此方法返回该字符串的索引，否则返回异常，代表没有找到该字符串。"
   ]
  },
  {
   "cell_type": "code",
   "execution_count": 26,
   "metadata": {},
   "outputs": [
    {
     "name": "stdout",
     "output_type": "stream",
     "text": [
      "1\n"
     ]
    }
   ],
   "source": [
    "str = \"LoveYouPython\"\n",
    "print(str.index(\"o\"))"
   ]
  },
  {
   "cell_type": "code",
   "execution_count": 27,
   "metadata": {},
   "outputs": [
    {
     "ename": "ValueError",
     "evalue": "substring not found",
     "output_type": "error",
     "traceback": [
      "\u001b[1;31m---------------------------------------------------------------------------\u001b[0m",
      "\u001b[1;31mValueError\u001b[0m                                Traceback (most recent call last)",
      "Cell \u001b[1;32mIn[27], line 2\u001b[0m\n\u001b[0;32m      1\u001b[0m \u001b[39mstr\u001b[39m \u001b[39m=\u001b[39m \u001b[39m\"\u001b[39m\u001b[39mLoveYouPython\u001b[39m\u001b[39m\"\u001b[39m\n\u001b[1;32m----> 2\u001b[0m \u001b[39mprint\u001b[39m(\u001b[39mstr\u001b[39;49m\u001b[39m.\u001b[39;49mindex(\u001b[39m\"\u001b[39;49m\u001b[39mO\u001b[39;49m\u001b[39m\"\u001b[39;49m))\n",
      "\u001b[1;31mValueError\u001b[0m: substring not found"
     ]
    }
   ],
   "source": [
    "str = \"LoveYouPython\"\n",
    "print(str.index(\"O\"))"
   ]
  },
  {
   "attachments": {},
   "cell_type": "markdown",
   "metadata": {},
   "source": [
    "（4）方法startswith（）：查询字符串是否以指定子字符串开头\n",
    "\n",
    "str.startswith（“被检索的字符串”，检索的起始位置，检索的结束位置）\n",
    "\n",
    "注意：如果找到了返回True，否则返回False"
   ]
  },
  {
   "cell_type": "code",
   "execution_count": null,
   "metadata": {},
   "outputs": [
    {
     "name": "stdout",
     "output_type": "stream",
     "text": [
      "True\n",
      "False\n"
     ]
    }
   ],
   "source": [
    "str = \"LoveYouPython\"\n",
    "print(str.startswith(\"L\"))\n",
    "print(str.startswith(\"o\"))"
   ]
  },
  {
   "attachments": {},
   "cell_type": "markdown",
   "metadata": {},
   "source": [
    "（5）方法endswith（）：查询字符串是否以指定子字符串结尾\n",
    "\n",
    "str.endswith（“被检索的字符串”，检索的起始位置，检索的结束位置）\n",
    "\n",
    "注意：如果找到了返回True，否则返回False。"
   ]
  },
  {
   "cell_type": "code",
   "execution_count": null,
   "metadata": {},
   "outputs": [
    {
     "name": "stdout",
     "output_type": "stream",
     "text": [
      "True\n",
      "False\n"
     ]
    }
   ],
   "source": [
    "str = \"LoveYouPython\"\n",
    "print(str.endswith(\"n\"))\n",
    "print(str.endswith(\"o\"))"
   ]
  },
  {
   "attachments": {},
   "cell_type": "markdown",
   "metadata": {},
   "source": [
    "4、字符串的分割：\n",
    "\n",
    "（1）方法split（）：通过指定分割符对字符串进行切片，拆分字符串。（在没有指定分割符时默认空白字符串切片，切割后是个列表）\n",
    "\n",
    "str.split（“分割符”，分割次数)\n",
    "\n",
    "（2）方法splitliness（）：只能通过行界符对字符串进行切片，拆分字符串。（不能指定分割符对字符串进行切片，切割后是个列表）\n",
    "\n",
    "（3）方法partition（）：从str出现的第一个位置起，把字符串string分成一个3元素的元组。（切割后是个元组）\n",
    "\n"
   ]
  },
  {
   "cell_type": "code",
   "execution_count": null,
   "metadata": {},
   "outputs": [
    {
     "name": "stdout",
     "output_type": "stream",
     "text": [
      "['我', '爱', '你', 'Py', 'thon']\n",
      "['我', '爱你了', 'Py老thon']\n",
      "['我 爱', '你', 'Py', 'thon']\n",
      "('L', 'o', 'veYouPython')\n"
     ]
    }
   ],
   "source": [
    "str1 = \"我 爱\\t你\\nPy\\rthon\"\n",
    "print(str1.split())\n",
    "str2 = \"我老爱你了老Py老thon\"\n",
    "print(str2.split(\"老\",2))\n",
    "str3 = \"我 爱\\r你\\nPy\\r\\nthon\"\n",
    "print(str3.splitlines())\n",
    "str4 = \"LoveYouPython\"\n",
    "print(str4.partition(\"o\"))"
   ]
  },
  {
   "attachments": {},
   "cell_type": "markdown",
   "metadata": {},
   "source": [
    " 5、字符串的修剪：\n",
    " \n",
    "（1）方法strip（）：移除字符串头尾指定的字符（默认为空白或换行符）或字符序列。\n",
    "str.strip（[chars]） chars：移除字符串头尾指定的字符序列\n",
    "\n",
    "注意：该方法只能删除开头或是结尾的字符，不能删除中间部分的字符。"
   ]
  },
  {
   "cell_type": "code",
   "execution_count": 28,
   "metadata": {},
   "outputs": [
    {
     "name": "stdout",
     "output_type": "stream",
     "text": [
      "Love Python\n"
     ]
    }
   ],
   "source": [
    "str = \" Love Python\\n\\t\\r \"\n",
    "print(str.strip())"
   ]
  },
  {
   "attachments": {},
   "cell_type": "markdown",
   "metadata": {},
   "source": [
    "（2）方法lstrip（）：移除字符串头部指定的字符（默认为空白或换行符）或字符序列。\n",
    "str.lstrip（[chars]） chars：移除字符串头部指定的字符序列\n",
    "\n",
    "注意：该方法只能删除开头的字符，不能删除中间和结尾部分的字符。"
   ]
  },
  {
   "cell_type": "code",
   "execution_count": 29,
   "metadata": {},
   "outputs": [
    {
     "name": "stdout",
     "output_type": "stream",
     "text": [
      "Love Python\n",
      " \n"
     ]
    }
   ],
   "source": [
    "str = \" Love Python\\n\\t\\r \"\n",
    "print(str.lstrip())"
   ]
  },
  {
   "attachments": {},
   "cell_type": "markdown",
   "metadata": {},
   "source": [
    "3）方法rstrip（）：移除字符串尾部指定的字符（默认为空白或换行符）或字符序列。\n",
    "str.rstrip（[chars]） chars：移除字符串尾部指定的字符序列\n",
    "\n",
    "注意：该方法只能删除结尾的字符，不能删除中间和开头部分的字符。"
   ]
  },
  {
   "cell_type": "code",
   "execution_count": 30,
   "metadata": {},
   "outputs": [
    {
     "name": "stdout",
     "output_type": "stream",
     "text": [
      " Love Python\n"
     ]
    }
   ],
   "source": [
    "str = \" Love Python\\n\\t\\r \"\n",
    "print(str.rstrip())"
   ]
  },
  {
   "attachments": {},
   "cell_type": "markdown",
   "metadata": {},
   "source": [
    "6、三种常见的字符串的格式化：\n",
    "\n",
    "（1）%-formatting"
   ]
  },
  {
   "cell_type": "code",
   "execution_count": 31,
   "metadata": {},
   "outputs": [
    {
     "name": "stdout",
     "output_type": "stream",
     "text": [
      "你好Aaron,欢迎登录！这是您登录的第10次。您本次消费258.88元\n",
      "你好Aaron,欢迎登录！这是您登录的第10次。您本次消费258.88元\n"
     ]
    }
   ],
   "source": [
    "name = 'Aaron'\n",
    "login_time = 10\n",
    "cost = 258.88\n",
    "print('你好%s,欢迎登录！这是您登录的第%d次。您本次消费%.2f元' % (name,login_time,cost))\n",
    "# 字典的情况\n",
    "data = {'name':'Aaron','login_time':10,'cost':258.88}\n",
    "tuple_value = (data['name'],data['login_time'],data['cost'])\n",
    "print('你好%s,欢迎登录！这是您登录的第%d次。您本次消费%.2f元' % tuple_value)"
   ]
  },
  {
   "attachments": {},
   "cell_type": "markdown",
   "metadata": {},
   "source": [
    "（2）str.format（）\n",
    "\n",
    "通过{}和:来代替以前的%\n",
    "\n",
    "可以接受不限个参数，位置可以不按顺序。\n",
    "\n"
   ]
  },
  {
   "cell_type": "code",
   "execution_count": 32,
   "metadata": {},
   "outputs": [
    {
     "name": "stdout",
     "output_type": "stream",
     "text": [
      "你好Aaron,欢迎登录！这是您登录的第10次。您本次消费258.89元。\n",
      "你好Aaron,欢迎登录！这是您登录的第10次。您本次消费258.89元。恭喜Aaron成为vip。\n",
      "你好Aaron,欢迎登录！这是您登录的第10次。您本次消费258.89元。恭喜Aaron成为vip。\n",
      "你好Aaron,欢迎登录！这是您登录的第10次。您本次消费258.89元。恭喜Aaron成为vip。\n",
      "你好Aaron,欢迎登录！这是您登录的第10次。您本次消费258.88元\n"
     ]
    }
   ],
   "source": [
    "name = 'Aaron'\n",
    "login_time = 10\n",
    "cost = 258.8890\n",
    "print('你好{},欢迎登录！这是您登录的第{}次。您本次消费{:.2f}元。'.format(name,login_time,cost))\n",
    "print('你好{},欢迎登录！这是您登录的第{}次。您本次消费{:.2f}元。恭喜{}成为vip。'.format(name,login_time,cost,name))\n",
    "print('你好{0},欢迎登录！这是您登录的第{1}次。您本次消费{2:.2f}元。恭喜{0}成为vip。'.format(name,login_time,cost))\n",
    "print('你好{name},欢迎登录！这是您登录的第{log_time}次。您本次消费{cost:.2f}元。恭喜{name}成为vip。'.format(name=name,log_time=login_time,cost=cost))\n",
    "# 字典的情况\n",
    "data = {'name':'Aaron','login_time':10,'cost':258.88}\n",
    "print('你好{},欢迎登录！这是您登录的第{}次。您本次消费{}元'.format(data['name'],data['login_time'],data['cost']))"
   ]
  },
  {
   "attachments": {},
   "cell_type": "markdown",
   "metadata": {},
   "source": [
    "（3）f-string\n",
    "\n",
    "f或F修饰符引领的字符串（f’xxx’或F’xxx’）\n",
    "\n",
    "以大括号{}标明被替换的字段"
   ]
  },
  {
   "cell_type": "code",
   "execution_count": 33,
   "metadata": {},
   "outputs": [
    {
     "name": "stdout",
     "output_type": "stream",
     "text": [
      "你好Aaron,欢迎登录！这是您登录的第10次。您本次消费258.89元。\n",
      "你好Aaron,欢迎登录！这是您登录的第10次。您本次消费258.89元。恭喜Aaron成为vip。\n",
      "你好Aaron,欢迎登录！这是您登录的第10次。您本次消费258.89元。恭喜Aaron成为vip。\n"
     ]
    },
    {
     "ename": "",
     "evalue": "",
     "output_type": "error",
     "traceback": [
      "\u001b[1;31m在当前单元格或上一个单元格中执行代码时 Kernel 崩溃。请查看单元格中的代码，以确定故障的可能原因。有关详细信息，请单击 <a href='https://aka.ms/vscodeJupyterKernelCrash'>此处</a>。有关更多详细信息，请查看 Jupyter <a href='command:jupyter.viewOutput'>log</a>。"
     ]
    }
   ],
   "source": [
    "name = 'Aaron'\n",
    "login_time = 10\n",
    "cost = 258.8890\n",
    "print(f'你好{name},欢迎登录！这是您登录的第{login_time}次。您本次消费{cost:.2f}元。')\n",
    "print(f'你好{name},欢迎登录！这是您登录的第{login_time}次。您本次消费{cost:.2f}元。恭喜{name}成为vip。')\n",
    "# 字典的情况\n",
    "data = {'name':'Aaron','login_time':10,'cost':258.88}\n",
    "print(f'你好{name},欢迎登录！这是您登录的第{login_time}次。您本次消费{cost:.2f}元。恭喜{name}成为vip。')"
   ]
  }
 ],
 "metadata": {
  "kernelspec": {
   "display_name": "Python 3",
   "language": "python",
   "name": "python3"
  },
  "language_info": {
   "codemirror_mode": {
    "name": "ipython",
    "version": 3
   },
   "file_extension": ".py",
   "mimetype": "text/x-python",
   "name": "python",
   "nbconvert_exporter": "python",
   "pygments_lexer": "ipython3",
   "version": "3.10.2"
  },
  "orig_nbformat": 4
 },
 "nbformat": 4,
 "nbformat_minor": 2
}
