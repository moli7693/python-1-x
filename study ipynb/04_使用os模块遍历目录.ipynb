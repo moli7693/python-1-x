{
 "cells": [
  {
   "cell_type": "markdown",
   "metadata": {},
   "source": [
    "# **使用os模块遍历目录**\n",
    "\n",
    "我们习惯使用递归方式遍历文件夹，在os模块中的walk( )函数也能完成类似的功能，实现起来更加轻松。\n",
    "\n",
    "## **函数原型**\n",
    "+ os.walk( 文件地址 ) ：返回 文件路径地址（字符串）、文件夹集合（列表）和 文件夹中的文件（列表）\n",
    "\n",
    "## **常规使用**\n",
    "+ 我们经常使用 for循环 + os.walk()函数 组合的形式，实现对指定文件夹的深度遍历。"
   ]
  },
  {
   "cell_type": "code",
   "execution_count": 1,
   "metadata": {},
   "outputs": [
    {
     "name": "stdout",
     "output_type": "stream",
     "text": [
      "|-文件夹路径：D:\\python 1+X\\Python 1+X初级内容\\09_演练_读写文件及访问文件系统\n",
      "||-路径下的文件夹：['.ipynb_checkpoints', 'data', 'package_test', '演练_读写文件和文件系统访问实验.ipynb_checkpoints']\n",
      "|||-文件夹中的文件：['01_使用file读写文本文件.ipynb', '02_使用file读写二进制文件.ipynb', '03_使用os模块操作单个文件和目录.ipynb', '04_使用os模块遍历目录.ipynb', 'os_test.py']\n",
      "|-文件夹路径：D:\\python 1+X\\Python 1+X初级内容\\09_演练_读写文件及访问文件系统\\.ipynb_checkpoints\n",
      "||-路径下的文件夹：[]\n",
      "|||-文件夹中的文件：['01_使用file读写文本文件-checkpoint.ipynb', '02_使用file读写二进制文件-checkpoint.ipynb', '03_使用os模块操作单个文件和目录-checkpoint.ipynb', '04_使用os模块遍历目录-checkpoint.ipynb']\n",
      "|-文件夹路径：D:\\python 1+X\\Python 1+X初级内容\\09_演练_读写文件及访问文件系统\\data\n",
      "||-路径下的文件夹：[]\n",
      "|||-文件夹中的文件：['a.txt', 'photo.jpg', 'photo_bak.jpg']\n",
      "|-文件夹路径：D:\\python 1+X\\Python 1+X初级内容\\09_演练_读写文件及访问文件系统\\package_test\n",
      "||-路径下的文件夹：['__pycache__']\n",
      "|||-文件夹中的文件：['test1.py', 'test2.py', '__init__.py']\n",
      "|-文件夹路径：D:\\python 1+X\\Python 1+X初级内容\\09_演练_读写文件及访问文件系统\\package_test\\__pycache__\n",
      "||-路径下的文件夹：[]\n",
      "|||-文件夹中的文件：['runoob1.cpython-38.pyc', 'runoob2.cpython-38.pyc', 'test1.cpython-38.pyc', 'test1.cpython-39.pyc', 'test2.cpython-38.pyc', 'test2.cpython-39.pyc', '__init__.cpython-38.pyc', '__init__.cpython-39.pyc']\n",
      "|-文件夹路径：D:\\python 1+X\\Python 1+X初级内容\\09_演练_读写文件及访问文件系统\\演练_读写文件和文件系统访问实验.ipynb_checkpoints\n",
      "||-路径下的文件夹：[]\n",
      "|||-文件夹中的文件：['02-读写文件和文件系统访问实验-checkpoint.ipynb']\n"
     ]
    }
   ],
   "source": [
    "import os\n",
    "\n",
    "for root,dirs,files in os.walk(os.getcwd()): #os.getcwd()获取当前路径\n",
    "    print('|-文件夹路径：{}'.format(root)) #获取文件夹中的所有目录及目录名称\n",
    "    print('||-路径下的文件夹：{}'.format(dirs)) #获取当前文件夹中的子文件夹名称\n",
    "    print('|||-文件夹中的文件：{}'.format(files)) #获取当前自文夹中的文件名称"
   ]
  },
  {
   "cell_type": "markdown",
   "metadata": {},
   "source": [
    "## **文件夹的创建和删除**"
   ]
  },
  {
   "cell_type": "code",
   "execution_count": 1,
   "metadata": {},
   "outputs": [],
   "source": [
    "#导入os模块\n",
    "import os\n",
    "\n",
    "#判断文件夹是否存在\n",
    "if not os.path.exists('createDir'):\n",
    "   #创建文件夹\n",
    "    os.mkdir('createDir')\n",
    "else:\n",
    "    print(\"文件夹已经创建，不需要再创建\")"
   ]
  },
  {
   "cell_type": "markdown",
   "metadata": {},
   "source": [
    "**扩展：os.makedirs() 方法用于递归创建目录。像 mkdir(), 但创建的所有intermediate-level文件夹需要包含子目录。**"
   ]
  },
  {
   "cell_type": "code",
   "execution_count": 2,
   "metadata": {},
   "outputs": [],
   "source": [
    "#删除文件\n",
    "os.rmdir('createDir')"
   ]
  },
  {
   "cell_type": "markdown",
   "metadata": {},
   "source": [
    "**说明：**\n",
    "+ os.rmdir() 方法用于删除指定路径的目录。仅当这文件夹是空的才可以, 否则, 抛出OSError。\n",
    "+ os.removedirs(path) :递归地删除目录。如果子目录成功被删除，则将会成功删除父目录，子目录没成功删除，将抛异常。\n",
    "+ 删除文件，可使用两种方法:  \n",
    "    1. os.remove(path)  \n",
    "    2. os.unlink(path)"
   ]
  }
 ],
 "metadata": {
  "kernelspec": {
   "display_name": "Python 3.8.3 ('base')",
   "language": "python",
   "name": "python3"
  },
  "language_info": {
   "codemirror_mode": {
    "name": "ipython",
    "version": 3
   },
   "file_extension": ".py",
   "mimetype": "text/x-python",
   "name": "python",
   "nbconvert_exporter": "python",
   "pygments_lexer": "ipython3",
   "version": "3.8.3"
  },
  "vscode": {
   "interpreter": {
    "hash": "6a018d3a992d78c184ccc94ab54168c7b26325ed3c2283926339c3edbf5487e7"
   }
  }
 },
 "nbformat": 4,
 "nbformat_minor": 5
}
