{
 "cells": [
  {
   "cell_type": "markdown",
   "metadata": {},
   "source": [
    "# **使用file读写文本文件**\n",
    "## **文件**\n",
    "+ 文件可以认为是相关记录或存放在一起的数据的集合。\n",
    "+ 文件在计算机中可以分为文本文件和二进制文件两类：\n",
    "    1. 文本文件：在不同操作系统下，可以用文本编辑器进行读写操作的文件。\n",
    "    2. 二进制文件：那么其他的文件就属于二进制文件。而二进制文件相比与文本文件的优势在于二进制文件的处理效率更高一些。"
   ]
  },
  {
   "cell_type": "markdown",
   "metadata": {},
   "source": [
    "## **文件读写操作**\n",
    "### **打开文件**\n",
    "\n",
    "读取一个文件的思路永远都是相同的：\n",
    "+ 第1步 自然就是打开一个文件。\n",
    "    + 在python中我们使用open函数来打开一个文件。\n",
    "    + 在取得文件关联后，才可以执行文件的写入或读取操作。\n",
    "\n",
    "``\n",
    "input = open（文件路径 ， 读写模式 [ , encoding=编码格式]）\n",
    "``\n",
    "\n",
    "读取文件的路径有两种方式：\n",
    "+ 绝对路径方式\n",
    "\n",
    "``\n",
    "input = open（‘d:/dev/python/workspace/test.txt’， ‘r’）\n",
    "``\n",
    "\n",
    "+ 相对路径方式\n",
    "\n",
    "``\n",
    "input = open（‘test.txt’， ‘r’）\n",
    "``\n",
    "\n",
    "**说明：open( ) 在获取文件关联时，若文件不存在则创建文件(mode='a'或mode ='w')。**\n",
    "\n",
    "读取文件的模式主要有5种:\n",
    "\n",
    "|  模式   | 作用  |\n",
    "|  :----  | :----  |\n",
    "| r  | 读取模式 |\n",
    "| w  | 写入模式 |\n",
    "| a  | 追加模式 |\n",
    "| rb  | 二进制数据读取模式 |\n",
    "| wb  | 二进制数据写入模式 |\n",
    "\n",
    "+ 还有一种写法是在常规模式后面添加 + 号，如 r+、w+、a+、rb+、wb+ 等，\"+\"号的作用是赋予模式在原有功能的基础初上补充并完善所有访问操作功能。\n",
    "    + 如 r+ 代表就是读写文件模式，不仅仅是只读模式。\n"
   ]
  },
  {
   "cell_type": "markdown",
   "metadata": {},
   "source": [
    "### **文件的写入操作**\n",
    "\n",
    "+ 使用 write( ) 函数实现向已关联的文件写入数据\n",
    "+ 向文件写入一段文字:函数：write( 字符串 )\n",
    "标准步骤：\n",
    "    1. 获取程序与文件的关联\n",
    "    2. 写入数据\n",
    "    3. 关闭文件对象"
   ]
  },
  {
   "cell_type": "code",
   "execution_count": 6,
   "metadata": {},
   "outputs": [
    {
     "name": "stdout",
     "output_type": "stream",
     "text": [
      "文件写入成功！\n"
     ]
    }
   ],
   "source": [
    "#打开（创建）文件并写入数据后关闭文件\n",
    "\n",
    "f = open('data/a.txt','w',encoding = 'utf8')\n",
    "f.write(\"我在学习python\")\n",
    "f.close()\n",
    "print(\"文件写入成功！\")"
   ]
  },
  {
   "cell_type": "markdown",
   "metadata": {},
   "source": [
    "+ 使用 with 语句，很好地处理了上下文环境和异常情况，自动释放对象内存。\n",
    "+ 方式：with open( 文件路径 , 读写模式  ) as 文件对象:"
   ]
  },
  {
   "cell_type": "code",
   "execution_count": 11,
   "metadata": {},
   "outputs": [
    {
     "name": "stdout",
     "output_type": "stream",
     "text": [
      "文件写入成功！\n"
     ]
    }
   ],
   "source": [
    "# 使用with语句打开（创建）文件并写入数据后关闭文件\n",
    "with open('data/a.txt','w',encoding = 'utf8') as fp:\n",
    "    fp.write(\"我在学习python\\n\")\n",
    "    fp.write(\"好好学习，天天向上\")\n",
    "    print(\"文件写入成功！\")"
   ]
  },
  {
   "cell_type": "markdown",
   "metadata": {},
   "source": [
    "**说明：取消了 close(), with语句会在执行完毕后，自动释放 fp 对象**"
   ]
  },
  {
   "cell_type": "markdown",
   "metadata": {},
   "source": [
    "### **文件的读取操作**\n",
    "+ 使用 read ( ) 函数实现向已关联的文件读取数据\n",
    "+ 从指定的文件中读取数据:函数：read(  )\n",
    "标准步骤：\n",
    "    1. 获取程序与文件的关联\n",
    "    2. 读取并输出数据"
   ]
  },
  {
   "cell_type": "code",
   "execution_count": 8,
   "metadata": {
    "scrolled": true
   },
   "outputs": [
    {
     "name": "stdout",
     "output_type": "stream",
     "text": [
      "我在学习python\n",
      "好好学习，天天向上\n"
     ]
    }
   ],
   "source": [
    "with open('data/a.txt','r',encoding='utf8') as fp:\n",
    "    content = fp.read()\n",
    "    print(content)"
   ]
  },
  {
   "cell_type": "code",
   "execution_count": 9,
   "metadata": {},
   "outputs": [
    {
     "name": "stdout",
     "output_type": "stream",
     "text": [
      "文件中第一行内容为：我在学习python\n",
      "\n"
     ]
    }
   ],
   "source": [
    "with open('data/a.txt','r',encoding='utf8') as fp:\n",
    "    content1 = fp.readline() #readline() 方法用于从文件读取整行，包括 \"\\n\" 字符。如果指定了一个非负数的参数，则返回指定大小的字节数，包括 \"\\n\" 字符。\n",
    "    print(\"文件中第一行内容为：{}\".format(content1))"
   ]
  },
  {
   "cell_type": "code",
   "execution_count": 10,
   "metadata": {},
   "outputs": [
    {
     "name": "stdout",
     "output_type": "stream",
     "text": [
      "文件中的内容为：['我在学习python\\n', '好好学习，天天向上']\n"
     ]
    }
   ],
   "source": [
    "with open('data/a.txt','r',encoding='utf8') as fp:\n",
    "    content2 = fp.readlines() #readlines() 方法用于读取所有行(直到结束符 EOF)并返回列表，该列表可以由 Python 的 for... in ... 结构进行处理。\n",
    "    print(\"文件中的内容为：{}\".format(content2))"
   ]
  }
 ],
 "metadata": {
  "kernelspec": {
   "display_name": "Python 3.8.3 ('base')",
   "language": "python",
   "name": "python3"
  },
  "language_info": {
   "codemirror_mode": {
    "name": "ipython",
    "version": 3
   },
   "file_extension": ".py",
   "mimetype": "text/x-python",
   "name": "python",
   "nbconvert_exporter": "python",
   "pygments_lexer": "ipython3",
   "version": "3.8.3"
  },
  "vscode": {
   "interpreter": {
    "hash": "6a018d3a992d78c184ccc94ab54168c7b26325ed3c2283926339c3edbf5487e7"
   }
  }
 },
 "nbformat": 4,
 "nbformat_minor": 5
}
