{
 "cells": [
  {
   "cell_type": "markdown",
   "id": "e59e4d41-9b2c-4ca9-a9fc-7456fc9f2194",
   "metadata": {},
   "source": [
    "## 使用tuple\n",
    "+ 元组也是一种序列\n",
    "+ 与列表不同的是: 元组内的元素不能修改\n",
    "+ 元组使用小括号, 而列表使用中括号\n",
    "+ 元组的形式: (元素1, 元素2, ..., 元素n)"
   ]
  },
  {
   "cell_type": "code",
   "execution_count": 1,
   "id": "f511d2a6-d6e9-4f8f-ad27-2c656d0b3188",
   "metadata": {},
   "outputs": [
    {
     "name": "stdout",
     "output_type": "stream",
     "text": [
      "()\n",
      "<class 'tuple'>\n"
     ]
    }
   ],
   "source": [
    "# 创建空列表\n",
    "l = []\n",
    "# 创建空元组\n",
    "t1 = ()\n",
    "print(t1)\n",
    "print(type(t1))"
   ]
  },
  {
   "cell_type": "code",
   "execution_count": 2,
   "id": "8a035d37-fd8d-41ce-916f-c12417d86c53",
   "metadata": {},
   "outputs": [
    {
     "name": "stdout",
     "output_type": "stream",
     "text": [
      "('aa', 'bb', 'cc')\n",
      "(11, 22, 33)\n",
      "(1, 2, 'a', 3)\n"
     ]
    }
   ],
   "source": [
    "t1 = ('aa', 'bb', 'cc')\n",
    "t2 = (11, 22, 33)\n",
    "t3 = (1, 2, 'a', 3)\n",
    "\n",
    "print(t1)\n",
    "print(t2)\n",
    "print(t3)"
   ]
  },
  {
   "cell_type": "markdown",
   "id": "18744283-8489-44e1-8da0-50d9d4a412cf",
   "metadata": {},
   "source": [
    "### 特别的: 如果在元组内只有一个元素, 那么 需要在元素的后面加上一个\",\""
   ]
  },
  {
   "cell_type": "code",
   "execution_count": 2,
   "id": "56693987-5bb7-4576-8603-aef95ff9607e",
   "metadata": {},
   "outputs": [
    {
     "name": "stdout",
     "output_type": "stream",
     "text": [
      "11\n",
      "<class 'int'>\n",
      "(11,)\n",
      "<class 'tuple'>\n",
      "(11, 22)\n",
      "<class 'tuple'>\n"
     ]
    }
   ],
   "source": [
    "t1 = (11)\n",
    "print(t1)\n",
    "print(type(t1))\n",
    "\n",
    "t2 = (11,)\n",
    "print(t2)\n",
    "print(type(t2))\n",
    "\n",
    "t3 = (11,22,)\n",
    "print(t3)\n",
    "print(type(t3))"
   ]
  },
  {
   "cell_type": "markdown",
   "id": "ac0a3f36-d3fe-4b44-afd9-4f1e92d04d67",
   "metadata": {},
   "source": [
    "## 访问元组"
   ]
  },
  {
   "cell_type": "code",
   "execution_count": 3,
   "id": "bd21e753-fc9f-42c3-9199-f20e1ff02beb",
   "metadata": {},
   "outputs": [
    {
     "name": "stdout",
     "output_type": "stream",
     "text": [
      "aa\n",
      "('bb', 'cc')\n"
     ]
    }
   ],
   "source": [
    "t1 = ('aa', 'bb', 'cc', 'dd')\n",
    "\n",
    "print(t1[0])\n",
    "print(t1[1:3])"
   ]
  },
  {
   "cell_type": "markdown",
   "id": "7caa2985-9f8a-44cb-96a5-50b5aef1c131",
   "metadata": {},
   "source": [
    "## 修改元组\n",
    "+ ***元组的元素是不允许修改的"
   ]
  },
  {
   "cell_type": "code",
   "execution_count": 4,
   "id": "6dcd16ce-f82c-4303-b019-cec81d5686aa",
   "metadata": {},
   "outputs": [
    {
     "ename": "TypeError",
     "evalue": "'tuple' object does not support item assignment",
     "output_type": "error",
     "traceback": [
      "\u001b[1;31m---------------------------------------------------------------------------\u001b[0m",
      "\u001b[1;31mTypeError\u001b[0m                                 Traceback (most recent call last)",
      "Input \u001b[1;32mIn [4]\u001b[0m, in \u001b[0;36m<cell line: 2>\u001b[1;34m()\u001b[0m\n\u001b[0;32m      1\u001b[0m t1 \u001b[38;5;241m=\u001b[39m (\u001b[38;5;124m'\u001b[39m\u001b[38;5;124maa\u001b[39m\u001b[38;5;124m'\u001b[39m, \u001b[38;5;124m'\u001b[39m\u001b[38;5;124mbb\u001b[39m\u001b[38;5;124m'\u001b[39m, \u001b[38;5;124m'\u001b[39m\u001b[38;5;124mcc\u001b[39m\u001b[38;5;124m'\u001b[39m, \u001b[38;5;124m'\u001b[39m\u001b[38;5;124mdd\u001b[39m\u001b[38;5;124m'\u001b[39m)\n\u001b[1;32m----> 2\u001b[0m t1[\u001b[38;5;241m0\u001b[39m] \u001b[38;5;241m=\u001b[39m \u001b[38;5;124m'\u001b[39m\u001b[38;5;124mxx\u001b[39m\u001b[38;5;124m'\u001b[39m\n",
      "\u001b[1;31mTypeError\u001b[0m: 'tuple' object does not support item assignment"
     ]
    }
   ],
   "source": [
    "t1 = ('aa', 'bb', 'cc', 'dd')\n",
    "t1[0] = 'xx'"
   ]
  },
  {
   "cell_type": "markdown",
   "id": "44ee13e8-60dd-46a5-b240-d72b39b03be1",
   "metadata": {},
   "source": [
    "## 删除元组中的元素\n",
    "+ ***删除元素也是修改元组的一种, 也是不允许的"
   ]
  },
  {
   "cell_type": "code",
   "execution_count": 5,
   "id": "cde24451-f617-452f-9204-99633e242626",
   "metadata": {},
   "outputs": [
    {
     "ename": "TypeError",
     "evalue": "'tuple' object doesn't support item deletion",
     "output_type": "error",
     "traceback": [
      "\u001b[1;31m---------------------------------------------------------------------------\u001b[0m",
      "\u001b[1;31mTypeError\u001b[0m                                 Traceback (most recent call last)",
      "Input \u001b[1;32mIn [5]\u001b[0m, in \u001b[0;36m<cell line: 2>\u001b[1;34m()\u001b[0m\n\u001b[0;32m      1\u001b[0m t1 \u001b[38;5;241m=\u001b[39m (\u001b[38;5;124m'\u001b[39m\u001b[38;5;124maa\u001b[39m\u001b[38;5;124m'\u001b[39m, \u001b[38;5;124m'\u001b[39m\u001b[38;5;124mbb\u001b[39m\u001b[38;5;124m'\u001b[39m, \u001b[38;5;124m'\u001b[39m\u001b[38;5;124mcc\u001b[39m\u001b[38;5;124m'\u001b[39m, \u001b[38;5;124m'\u001b[39m\u001b[38;5;124mdd\u001b[39m\u001b[38;5;124m'\u001b[39m)\n\u001b[1;32m----> 2\u001b[0m \u001b[38;5;28;01mdel\u001b[39;00m t1[\u001b[38;5;241m0\u001b[39m]\n",
      "\u001b[1;31mTypeError\u001b[0m: 'tuple' object doesn't support item deletion"
     ]
    }
   ],
   "source": [
    "t1 = ('aa', 'bb', 'cc', 'dd')\n",
    "del t1[0]"
   ]
  },
  {
   "cell_type": "markdown",
   "id": "abb2538d-f96a-41c5-bef8-e1fdc3614583",
   "metadata": {},
   "source": [
    "## 删除元组\n",
    "+ 这里是删除的整个元组"
   ]
  },
  {
   "cell_type": "code",
   "execution_count": 6,
   "id": "80a5096f-7988-455b-b70c-16bac50debe3",
   "metadata": {},
   "outputs": [
    {
     "name": "stdout",
     "output_type": "stream",
     "text": [
      "('aa', 'bb', 'cc', 'dd')\n"
     ]
    },
    {
     "ename": "NameError",
     "evalue": "name 't1' is not defined",
     "output_type": "error",
     "traceback": [
      "\u001b[1;31m---------------------------------------------------------------------------\u001b[0m",
      "\u001b[1;31mNameError\u001b[0m                                 Traceback (most recent call last)",
      "Input \u001b[1;32mIn [6]\u001b[0m, in \u001b[0;36m<cell line: 4>\u001b[1;34m()\u001b[0m\n\u001b[0;32m      2\u001b[0m \u001b[38;5;28mprint\u001b[39m(t1)\n\u001b[0;32m      3\u001b[0m \u001b[38;5;28;01mdel\u001b[39;00m t1\n\u001b[1;32m----> 4\u001b[0m \u001b[38;5;28mprint\u001b[39m(\u001b[43mt1\u001b[49m)\n",
      "\u001b[1;31mNameError\u001b[0m: name 't1' is not defined"
     ]
    }
   ],
   "source": [
    "t1 = ('aa', 'bb', 'cc', 'dd')\n",
    "print(t1)\n",
    "del t1\n",
    "print(t1)"
   ]
  },
  {
   "cell_type": "markdown",
   "id": "1ea7fa9f-8d46-466b-84fa-60262bf4e0eb",
   "metadata": {},
   "source": [
    "## 元组操作符"
   ]
  },
  {
   "cell_type": "code",
   "execution_count": 9,
   "id": "23c18d47-f744-411a-b165-51b9c555571f",
   "metadata": {},
   "outputs": [
    {
     "name": "stdout",
     "output_type": "stream",
     "text": [
      "(1, 2, 3, 7, 8, 9)\n"
     ]
    }
   ],
   "source": [
    "# 元组的连接\n",
    "t1 = (1, 2, 3)\n",
    "t2 = (7, 8, 9)\n",
    "t = t1 + t2\n",
    "print(t)"
   ]
  },
  {
   "cell_type": "code",
   "execution_count": 10,
   "id": "e4c9229c-5414-458d-ae79-007785610459",
   "metadata": {},
   "outputs": [
    {
     "name": "stdout",
     "output_type": "stream",
     "text": [
      "('a', 'a', 'a', 'a', 'a')\n"
     ]
    }
   ],
   "source": [
    "# 元组的复制\n",
    "t = ('a',) * 5\n",
    "print(t)"
   ]
  },
  {
   "cell_type": "code",
   "execution_count": 7,
   "id": "76571d72-b2f4-4e5f-9a88-9c5bf8427ff5",
   "metadata": {},
   "outputs": [
    {
     "name": "stdout",
     "output_type": "stream",
     "text": [
      "False\n"
     ]
    }
   ],
   "source": [
    "# 判断元素是否在元组中\n",
    "t1 = ('aa', 'bb', 'cc', 'dd')\n",
    "flag = 'ee' in t1\n",
    "print(flag)"
   ]
  },
  {
   "cell_type": "code",
   "execution_count": 9,
   "id": "b1d4599e-2803-44f2-95c1-5c81eef501e5",
   "metadata": {},
   "outputs": [
    {
     "name": "stdout",
     "output_type": "stream",
     "text": [
      "aa bb cc dd "
     ]
    }
   ],
   "source": [
    "# 元组的迭代\n",
    "t1 = ('aa', 'bb', 'cc', 'dd')\n",
    "for i in t1: print(i,end=' ')"
   ]
  },
  {
   "cell_type": "markdown",
   "id": "867a8af0-5bf4-4a06-94c5-778d2ed41f7d",
   "metadata": {},
   "source": [
    "## 元组的索引和截取\n",
    "+ 因为元组也是一个序列, 所以 我们也是操作其索引"
   ]
  },
  {
   "cell_type": "code",
   "execution_count": 13,
   "id": "99d9bb2e-6c47-425a-af98-7068ac1bf8d4",
   "metadata": {},
   "outputs": [
    {
     "name": "stdout",
     "output_type": "stream",
     "text": [
      "bb\n",
      "dd\n"
     ]
    }
   ],
   "source": [
    "t1 = ('aa', 'bb', 'cc', 'dd')\n",
    "print(t1[1])\n",
    "print(t1[-1])"
   ]
  },
  {
   "cell_type": "code",
   "execution_count": 14,
   "id": "33a11e50-b0d0-435c-94f6-eba31dd0ffc4",
   "metadata": {},
   "outputs": [
    {
     "name": "stdout",
     "output_type": "stream",
     "text": [
      "('bb', 'cc')\n",
      "('bb', 'cc', 'dd')\n"
     ]
    }
   ],
   "source": [
    "t1 = ('aa', 'bb', 'cc', 'dd')\n",
    "print(t1[1:3])\n",
    "print(t1[1:])"
   ]
  },
  {
   "cell_type": "markdown",
   "id": "707f337d-6c79-4be8-96d3-3546a4a3f327",
   "metadata": {},
   "source": [
    "## 元组内置函数"
   ]
  },
  {
   "cell_type": "code",
   "execution_count": 15,
   "id": "c58274eb-5177-4e9e-9b98-7cfcd8036ec3",
   "metadata": {},
   "outputs": [
    {
     "name": "stdout",
     "output_type": "stream",
     "text": [
      "4\n"
     ]
    }
   ],
   "source": [
    "# 使用len函数获取元组中的元素个数\n",
    "t1 = ('aa', 'bb', 'cc', 'dd')\n",
    "print(len(t1))"
   ]
  },
  {
   "cell_type": "code",
   "execution_count": 16,
   "id": "dea1b524-6c73-484e-94b3-5c7cef61b1f7",
   "metadata": {},
   "outputs": [
    {
     "name": "stdout",
     "output_type": "stream",
     "text": [
      "(11, 22, 33)\n"
     ]
    }
   ],
   "source": [
    "# 使用tuple函数把list转换为元组\n",
    "lists = [11, 22, 33]\n",
    "t = tuple(lists)\n",
    "print(t)"
   ]
  },
  {
   "cell_type": "markdown",
   "id": "ec13c1c1-4372-4898-893e-91a29015486a",
   "metadata": {},
   "source": [
    "## 元组是不可变的, 元组指向内存中的内容不能发生变化"
   ]
  },
  {
   "cell_type": "code",
   "execution_count": 10,
   "id": "3fed2924-8be2-4672-82dc-5561d3fb9105",
   "metadata": {},
   "outputs": [
    {
     "name": "stdout",
     "output_type": "stream",
     "text": [
      "t1的地址 1904257534048\n",
      "t1的地址 1904257460416\n"
     ]
    }
   ],
   "source": [
    "t1 = ('aa', 'bb', 'cc', 'dd')\n",
    "print('t1的地址', id(t1))\n",
    "t1 = (11, 22)\n",
    "print('t1的地址', id(t1))"
   ]
  }
 ],
 "metadata": {
  "kernelspec": {
   "display_name": "Python 3 (ipykernel)",
   "language": "python",
   "name": "python3"
  },
  "language_info": {
   "codemirror_mode": {
    "name": "ipython",
    "version": 3
   },
   "file_extension": ".py",
   "mimetype": "text/x-python",
   "name": "python",
   "nbconvert_exporter": "python",
   "pygments_lexer": "ipython3",
   "version": "3.10.2"
  }
 },
 "nbformat": 4,
 "nbformat_minor": 5
}
