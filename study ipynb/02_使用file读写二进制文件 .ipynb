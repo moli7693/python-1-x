{
 "cells": [
  {
   "cell_type": "markdown",
   "metadata": {},
   "source": [
    "# **使用file读写二进制文件**\n",
    "\n",
    "+ 实现图片文件的复制\n",
    "\n",
    "    1. 读取文件数据\n",
    "    2. 写入文件数据"
   ]
  },
  {
   "cell_type": "code",
   "execution_count": 4,
   "metadata": {},
   "outputs": [
    {
     "name": "stdout",
     "output_type": "stream",
     "text": [
      "二进制文件写入完毕！\n"
     ]
    }
   ],
   "source": [
    "content = 0 #存储二进制内容\n",
    "\n",
    "#读取二进制文件\n",
    "with open('d:/data/photo.jpg','rb') as fp:\n",
    "    #读取文件数据赋值给变量\n",
    "    content = fp.read()\n",
    "    \n",
    "#写入二进制文件\n",
    "with open('d:/data/photo_bak.jpg','wb') as fp:\n",
    "    #将变量中的二进制数据写入文件\n",
    "    fp.write(content)\n",
    "    print(\"二进制文件写入完毕！\")    "
   ]
  },
  {
   "cell_type": "code",
   "execution_count": null,
   "metadata": {},
   "outputs": [
    {
     "ename": "",
     "evalue": "",
     "output_type": "error",
     "traceback": [
      "\u001b[1;31mRunning cells with 'Python 3.8.5 32-bit' requires ipykernel package.\n",
      "\u001b[1;31mRun the following command to install 'ipykernel' into the Python environment. \n",
      "\u001b[1;31mCommand: 'c:/Users/admin/AppData/Local/Programs/Python/Python38-32/python.exe -m pip install ipykernel -U --user --force-reinstall'"
     ]
    }
   ],
   "source": []
  }
 ],
 "metadata": {
  "kernelspec": {
   "display_name": "Python 3.8.3 ('base')",
   "language": "python",
   "name": "python3"
  },
  "language_info": {
   "codemirror_mode": {
    "name": "ipython",
    "version": 3
   },
   "file_extension": ".py",
   "mimetype": "text/x-python",
   "name": "python",
   "nbconvert_exporter": "python",
   "pygments_lexer": "ipython3",
   "version": "3.8.3"
  },
  "vscode": {
   "interpreter": {
    "hash": "6a018d3a992d78c184ccc94ab54168c7b26325ed3c2283926339c3edbf5487e7"
   }
  }
 },
 "nbformat": 4,
 "nbformat_minor": 5
}
